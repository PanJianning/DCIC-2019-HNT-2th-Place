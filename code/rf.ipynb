{
 "cells": [
  {
   "cell_type": "markdown",
   "metadata": {},
   "source": [
    " * python 3.6.6\n",
    " * scikit-learn==0.20.2\n",
    " * 根据我这边的实验，不同的sklearn版本rf跑出来的结果有些差别，\n",
    " 对同一版本的sklearn，我在win10, Kaggle，学校实验室的Ubuntu上跑都得到了一致的结果\n",
    " * 所以，请安装scikit-learn 0.20.2\n",
    " ```\n",
    " pip install scikit-learn==0.20.2\n",
    " ```\n",
    " 或者\n",
    "  ```\n",
    " pip3 install scikit-learn==0.20.2\n",
    " ```\n",
    " * 此文件跑的三个Random Forest模型，区别只在于数据划分seed和模型seed"
   ]
  },
  {
   "cell_type": "code",
   "execution_count": 9,
   "metadata": {},
   "outputs": [
    {
     "data": {
      "text/plain": [
       "'0.20.2'"
      ]
     },
     "execution_count": 9,
     "metadata": {},
     "output_type": "execute_result"
    }
   ],
   "source": [
    "import sklearn\n",
    "sklearn.__version__"
   ]
  },
  {
   "cell_type": "code",
   "execution_count": 9,
   "metadata": {},
   "outputs": [],
   "source": [
    "import os\n",
    "import numpy as np\n",
    "import pandas as pd\n",
    "from tqdm import tqdm\n",
    "import time\n",
    "from contextlib import contextmanager\n",
    "import lightgbm as lgb\n",
    "import xgboost as xgb\n",
    "from sklearn.model_selection import StratifiedKFold\n",
    "import warnings\n",
    "from scipy.stats import pearsonr\n",
    "import seaborn as sns\n",
    "from sklearn.metrics import f1_score\n",
    "from sklearn.ensemble import RandomForestClassifier, GradientBoostingClassifier\n",
    "warnings.filterwarnings('ignore')\n",
    "\n",
    "from clf_utils import *"
   ]
  },
  {
   "cell_type": "code",
   "execution_count": 2,
   "metadata": {},
   "outputs": [
    {
     "name": "stdout",
     "output_type": "stream",
     "text": [
      "[load train_feat_df] done in 1.48 seconds\n",
      "[load test_feat_df] done in 1.07 seconds\n"
     ]
    }
   ],
   "source": [
    "with timer('load train_feat_df'):\n",
    "    train_feat_df = pd.read_csv('../input/train_feat_df.csv')\n",
    "with timer('load test_feat_df'):\n",
    "    test_feat_df = pd.read_csv('../input/test_feat_df.csv')"
   ]
  },
  {
   "cell_type": "code",
   "execution_count": 3,
   "metadata": {},
   "outputs": [],
   "source": [
    "train_feat_df = pd.concat([train_feat_df, pd.get_dummies(train_feat_df['设备类型'],prefix='设备类型')],axis=1)\n",
    "test_feat_df = pd.concat([test_feat_df, pd.get_dummies(test_feat_df['设备类型'],prefix='设备类型')],axis=1)"
   ]
  },
  {
   "cell_type": "code",
   "execution_count": 4,
   "metadata": {},
   "outputs": [],
   "source": [
    "feature_name1 = ['活塞工作时长','num_samples', '设备类型',\n",
    " 'min_发动机转速','max_发动机转速','nuni_发动机转速','mean_发动机转速',\n",
    " 'min_油泵转速','max_油泵转速','nuni_油泵转速','mean_油泵转速',\n",
    " 'min_泵送压力','max_泵送压力','nuni_泵送压力','mean_泵送压力',\n",
    " 'min_液压油温','max_液压油温','nuni_液压油温','mean_液压油温',\n",
    " 'min_流量档位','max_流量档位','nuni_流量档位','mean_流量档位',\n",
    " 'min_分配压力','max_分配压力','nuni_分配压力','mean_分配压力',\n",
    " 'min_排量电流','max_排量电流','nuni_排量电流','mean_排量电流',\n",
    " '低压开关','反泵']\n",
    "\n",
    "feature_name2 = ['活塞工作时长','num_samples',\n",
    " 'min_发动机转速','max_发动机转速','nuni_发动机转速','mean_发动机转速',\n",
    " 'min_油泵转速','max_油泵转速','nuni_油泵转速','mean_油泵转速',\n",
    " 'min_泵送压力','max_泵送压力','nuni_泵送压力','mean_泵送压力',\n",
    " 'min_液压油温','max_液压油温','nuni_液压油温','mean_液压油温',\n",
    " 'min_流量档位','max_流量档位','nuni_流量档位','mean_流量档位',\n",
    " 'min_分配压力','max_分配压力','nuni_分配压力','mean_分配压力',\n",
    " 'min_排量电流','max_排量电流','nuni_排量电流','mean_排量电流',\n",
    " '低压开关','正泵',\n",
    " '设备类型_0','设备类型_1','设备类型_2','设备类型_3','设备类型_4','设备类型_5','设备类型_6']"
   ]
  },
  {
   "cell_type": "code",
   "execution_count": 5,
   "metadata": {},
   "outputs": [
    {
     "name": "stdout",
     "output_type": "stream",
     "text": [
      "\n",
      "========================= Fold 1 =========================\n",
      "\n",
      "========================= Fold 2 =========================\n",
      "\n",
      "========================= Fold 3 =========================\n",
      "\n",
      "========================= Fold 4 =========================\n",
      "\n",
      "========================= Fold 5 =========================\n",
      "0.6960997853236598\n"
     ]
    }
   ],
   "source": [
    "model = kf_sklearn(x=train_feat_df[feature_name2], y=train_feat_df.label.values, \n",
    "                   output_dir='gotcha_rf',\n",
    "                   x_test=test_feat_df[feature_name2], name='rf1', \n",
    "                   n_folds=5, n_estimators=250, \n",
    "                   random_state=8888, split_seed=8888)\n",
    "train_prob = np.load('./gotcha_rf/val.rf1.npy')\n",
    "test_prob = np.load('./gotcha_rf/test.rf1.npy')\n",
    "print(f1_score(train_feat_df.label.values,train_prob>0.46,average='micro'))"
   ]
  },
  {
   "cell_type": "code",
   "execution_count": 6,
   "metadata": {},
   "outputs": [
    {
     "name": "stdout",
     "output_type": "stream",
     "text": [
      "\n",
      "========================= Fold 1 =========================\n",
      "\n",
      "========================= Fold 2 =========================\n",
      "\n",
      "========================= Fold 3 =========================\n",
      "\n",
      "========================= Fold 4 =========================\n",
      "\n",
      "========================= Fold 5 =========================\n",
      "0.6971810019273861\n"
     ]
    }
   ],
   "source": [
    "model = kf_sklearn(x=train_feat_df[feature_name2], y=train_feat_df.label.values, \n",
    "                   output_dir='gotcha_rf',\n",
    "                   x_test=test_feat_df[feature_name2], name='rf2', \n",
    "                   n_folds=5, n_estimators=250, \n",
    "                   random_state=2333, split_seed=1111)\n",
    "train_prob = np.load('./gotcha_rf/val.rf2.npy')\n",
    "test_prob = np.load('./gotcha_rf/test.rf2.npy')\n",
    "print(f1_score(train_feat_df.label.values,train_prob>0.46,average='micro'))"
   ]
  },
  {
   "cell_type": "code",
   "execution_count": 8,
   "metadata": {},
   "outputs": [
    {
     "name": "stdout",
     "output_type": "stream",
     "text": [
      "0.6975100678502594\n"
     ]
    }
   ],
   "source": [
    "model = kf_sklearn(x=train_feat_df[feature_name2], y=train_feat_df.label.values, output_dir='gotcha',\n",
    "                   x_test=test_feat_df[feature_name2], name='gotcha_rf', \n",
    "                   n_folds=5, n_estimators=250, \n",
    "                   random_state=2017, split_seed=2018)\n",
    "train_prob = np.load('./gotcha_rf/val.rf3.npy')\n",
    "test_prob = np.load('./gotcha_rf/test.rf3.npy')\n",
    "print(f1_score(train_feat_df.label.values,train_prob>0.46,average='micro'))"
   ]
  }
 ],
 "metadata": {
  "kernelspec": {
   "display_name": "Python 3",
   "language": "python",
   "name": "python3"
  },
  "language_info": {
   "codemirror_mode": {
    "name": "ipython",
    "version": 3
   },
   "file_extension": ".py",
   "mimetype": "text/x-python",
   "name": "python",
   "nbconvert_exporter": "python",
   "pygments_lexer": "ipython3",
   "version": "3.6.6"
  }
 },
 "nbformat": 4,
 "nbformat_minor": 2
}
